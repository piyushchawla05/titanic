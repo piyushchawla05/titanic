{
 "cells": [
  {
   "cell_type": "markdown",
   "metadata": {},
   "source": [
    "# Extracting Data from Relational Database"
   ]
  },
  {
   "cell_type": "markdown",
   "metadata": {},
   "source": [
    "### SQLITE DATABASE"
   ]
  },
  {
   "cell_type": "markdown",
   "metadata": {},
   "source": [
    "### import package"
   ]
  },
  {
   "cell_type": "code",
   "execution_count": 7,
   "metadata": {},
   "outputs": [],
   "source": [
    "#import sqlite3 package\n",
    "import sqlite3"
   ]
  },
  {
   "cell_type": "markdown",
   "metadata": {},
   "source": [
    "### connect to database"
   ]
  },
  {
   "cell_type": "code",
   "execution_count": 11,
   "metadata": {},
   "outputs": [],
   "source": [
    "#create a connection to connect to a database:create database if not available\n",
    "connection=sqlite3.connect(\"classroom.db\")\n",
    "connection.close()"
   ]
  },
  {
   "cell_type": "markdown",
   "metadata": {},
   "source": [
    "### create table"
   ]
  },
  {
   "cell_type": "code",
   "execution_count": 12,
   "metadata": {},
   "outputs": [
    {
     "ename": "SyntaxError",
     "evalue": "invalid syntax (<ipython-input-12-748bc854743e>, line 6)",
     "output_type": "error",
     "traceback": [
      "\u001b[1;36m  File \u001b[1;32m\"<ipython-input-12-748bc854743e>\"\u001b[1;36m, line \u001b[1;32m6\u001b[0m\n\u001b[1;33m    drop table=\"\"\"Drop Table classroom;\"\"\"\u001b[0m\n\u001b[1;37m             ^\u001b[0m\n\u001b[1;31mSyntaxError\u001b[0m\u001b[1;31m:\u001b[0m invalid syntax\n"
     ]
    }
   ],
   "source": [
    "#open connection \n",
    "connection=sqlite3.connect(\"classroom.db\")\n",
    "#open cursor\n",
    "cursor=connection.cursor()\n",
    "#query to create table\n",
    "drop table=\"\"\"Drop Table classroom;\"\"\"\n",
    "create_table=\"\"\"Create table classroom (student_id INTEGER PRIMARY KEY,\n",
    "Name VARCHAR(20),\n",
    "gender CHAR(1),\n",
    "physics_marks INTEGER,\n",
    "chemistry_marks INTEGER,\n",
    "math_marks INTEGER\n",
    ");\"\"\"\n",
    "#execute query\n",
    "cursor.execute(drop_table)\n",
    "cursor.execute(create_table)\n",
    "connection.commit()\n",
    "#close connection\n",
    "connection.close()"
   ]
  },
  {
   "cell_type": "markdown",
   "metadata": {},
   "source": [
    "### Insert data"
   ]
  },
  {
   "cell_type": "code",
   "execution_count": 14,
   "metadata": {},
   "outputs": [],
   "source": [
    "classroom_data=[(1,'Jyotsena','F',90,95,83),(2,'Piyush','M',85,76,90),(3,'Riana','F',89,85,91),(4,'Shivangi','F',90,95,87)]\n",
    "connection=sqlite3.connect(\"Classroom.db\")\n",
    "cursor=connection.cursor()\n",
    "for student in classroom_data:\n",
    "    insert_query=\"\"\"Insert into classroom values({0},\"{1}\",\"{2}\",{3},{4},{5});\"\"\".format(student[0],student[1],student[2],student[3],student[4],student[5])\n",
    "    cursor.execute(insert_query)\n",
    "connection.commit()\n",
    "connection.close()"
   ]
  },
  {
   "cell_type": "markdown",
   "metadata": {},
   "source": [
    "### query data"
   ]
  },
  {
   "cell_type": "code",
   "execution_count": 23,
   "metadata": {},
   "outputs": [
    {
     "name": "stdout",
     "output_type": "stream",
     "text": [
      "(1, 'Jyotsena', 'F', 90, 95, 83)\n",
      "(2, 'Piyush', 'M', 85, 76, 90)\n",
      "(3, 'Riana', 'F', 89, 85, 91)\n",
      "(4, 'Shivangi', 'F', 90, 95, 87)\n"
     ]
    }
   ],
   "source": [
    "connection =sqlite3.connect('Classroom.db')\n",
    "cursor=connection.cursor()\n",
    "select_query=\"\"\"select * from Classroom;\"\"\"\n",
    "cursor.execute(select_query)\n",
    "result=cursor.fetchall()\n",
    "for i in result:\n",
    "    print(i)\n",
    "connection.commit()\n",
    "connection.close()"
   ]
  },
  {
   "cell_type": "code",
   "execution_count": null,
   "metadata": {},
   "outputs": [],
   "source": []
  }
 ],
 "metadata": {
  "kernelspec": {
   "display_name": "Python 3",
   "language": "python",
   "name": "python3"
  },
  "language_info": {
   "codemirror_mode": {
    "name": "ipython",
    "version": 3
   },
   "file_extension": ".py",
   "mimetype": "text/x-python",
   "name": "python",
   "nbconvert_exporter": "python",
   "pygments_lexer": "ipython3",
   "version": "3.6.4"
  }
 },
 "nbformat": 4,
 "nbformat_minor": 2
}
